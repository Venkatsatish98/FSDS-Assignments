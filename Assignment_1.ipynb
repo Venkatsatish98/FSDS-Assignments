{
 "cells": [
  {
   "cell_type": "markdown",
   "id": "3718dfaa",
   "metadata": {},
   "source": [
    "1. In the below elements which of them are values or an expression?\n",
    "#eg:- values can be integer or string and expressions will be mathematical operators."
   ]
  },
  {
   "cell_type": "code",
   "execution_count": null,
   "id": "1147ce1f",
   "metadata": {},
   "outputs": [],
   "source": [
    "* is an expression\n",
    "'hello' is a value\n",
    "-87.8 is a value\n",
    "- is an expression\n",
    "/ is an expression\n",
    "+ is an expression\n",
    "6 is a value"
   ]
  },
  {
   "cell_type": "markdown",
   "id": "c0418097",
   "metadata": {},
   "source": [
    " 2. What is the difference between string and variable?"
   ]
  },
  {
   "cell_type": "code",
   "execution_count": null,
   "id": "a1d51ba5",
   "metadata": {},
   "outputs": [],
   "source": [
    "string is a datatype in python that contains alphabets or integers which can be written inside a single or double quotes.\n",
    "\n",
    "Variable can be defined as filling the memory by assingning with respective values for further processing with datatypes like strings, integers, lists etc..\n",
    "\n",
    "a = \"Hello\"\n",
    "b = 1001\n",
    "c = [\"Hello\", 2+3j, 1221]\n",
    "Here, a, b, anc c are the variables that contains their respective values."
   ]
  },
  {
   "cell_type": "markdown",
   "id": "f687d3b9",
   "metadata": {},
   "source": [
    "3. Describe three different data types."
   ]
  },
  {
   "cell_type": "code",
   "execution_count": null,
   "id": "b5a4b0f6",
   "metadata": {},
   "outputs": [],
   "source": [
    "There are different types of datatypes like strings, integers, floating numbers, lists, tuples, sets, dictionaries etc..\n",
    "\n",
    "integers:- integers are the numerical data that are useful for different types of mathematical operations.\n",
    "\n",
    "floting numbers:- floating numbers are the type of numbers that which contains decimal values in it.\n",
    "lists:- Lists are one of the datatypes in python which are written inside the square braces.There are several operations can \n",
    "        be done with the lists like append, extend, pop, sort etc.. Lists are mutable in which it means we can the modify the \n",
    "        data by updating, deleting etc..\n",
    "        \n",
    "Tuples:- Tuples are written inside the paranthesis.Tuples are not mutable like lists. we cannott modify the data inside the \n",
    "       tuples.So they are calle immutable in nature.\n",
    "       \n",
    "sets:-Sets are type of data which written inside the curly braces.they are unordered collections and also the values are unique\n",
    "      which it will removes all the duplicates."
   ]
  },
  {
   "cell_type": "markdown",
   "id": "fda4c1ad",
   "metadata": {},
   "source": [
    "4. What is an expression made up of? What do all expressions do?"
   ]
  },
  {
   "cell_type": "code",
   "execution_count": null,
   "id": "e991ef26",
   "metadata": {},
   "outputs": [],
   "source": [
    "Expressions are made up of varaibles and mathematical operators.Expressions can give a required outcome by performing \n",
    "operations by using different types of mathematical signs like +, - ,* etc..\n",
    "We can perform different types of operations like addition, subtraction , division, multiplication etc.."
   ]
  },
  {
   "cell_type": "markdown",
   "id": "b1763e53",
   "metadata": {},
   "source": [
    "5. This assignment statements, like spam = 10. What is the difference between an expression and a statement?"
   ]
  },
  {
   "cell_type": "code",
   "execution_count": null,
   "id": "bf199469",
   "metadata": {},
   "outputs": [],
   "source": [
    "The expression is combination of values and arithmetic operators which it will give the result after evaluation\n",
    "on the other hand statement means like a sentence which it will follow  the code in which it may execute or not.\n",
    "there are different types of statements like assignment statement, if statement, for statement etc.."
   ]
  },
  {
   "cell_type": "markdown",
   "id": "73f0b814",
   "metadata": {},
   "source": [
    "6. After running the following code, what does the variable bacon contain?"
   ]
  },
  {
   "cell_type": "code",
   "execution_count": 8,
   "id": "3cdd1c2a",
   "metadata": {},
   "outputs": [
    {
     "data": {
      "text/plain": [
       "23"
      ]
     },
     "execution_count": 8,
     "metadata": {},
     "output_type": "execute_result"
    }
   ],
   "source": [
    "bacon = 22\n",
    "bacon + 1"
   ]
  },
  {
   "cell_type": "code",
   "execution_count": null,
   "id": "25036667",
   "metadata": {},
   "outputs": [],
   "source": [
    "The variable bacon will contain 23 because we have given an expression bacon+1 after the assignment statement. "
   ]
  },
  {
   "cell_type": "markdown",
   "id": "8503322c",
   "metadata": {},
   "source": [
    "7. What should the values of the following two terms be?"
   ]
  },
  {
   "cell_type": "code",
   "execution_count": 9,
   "id": "3d6ef558",
   "metadata": {},
   "outputs": [
    {
     "data": {
      "text/plain": [
       "'spamspamspam'"
      ]
     },
     "execution_count": 9,
     "metadata": {},
     "output_type": "execute_result"
    }
   ],
   "source": [
    "'spam' + 'spamspam'"
   ]
  },
  {
   "cell_type": "code",
   "execution_count": 10,
   "id": "c357e1d1",
   "metadata": {},
   "outputs": [
    {
     "data": {
      "text/plain": [
       "'spamspamspam'"
      ]
     },
     "execution_count": 10,
     "metadata": {},
     "output_type": "execute_result"
    }
   ],
   "source": [
    "'spam' * 3"
   ]
  },
  {
   "cell_type": "markdown",
   "id": "329918fc",
   "metadata": {},
   "source": [
    "8. Why is eggs a valid variable name while 100 is invalid?"
   ]
  },
  {
   "cell_type": "code",
   "execution_count": 11,
   "id": "ef65c8ce",
   "metadata": {},
   "outputs": [],
   "source": [
    "eggs = 100"
   ]
  },
  {
   "cell_type": "code",
   "execution_count": null,
   "id": "d1fb3e65",
   "metadata": {},
   "outputs": [],
   "source": [
    "eggs is a valid variable because alphabets can be used as variables and alphanumerics can also be used as variables but\n",
    "the variable should not start with an integer. for eg. ABC123 is a valid variable on the other hand 123ABC is not valid one."
   ]
  },
  {
   "cell_type": "markdown",
   "id": "a402d9cc",
   "metadata": {},
   "source": [
    "9. What three functions can be used to get the integer, floating-point number, or string version of a value?"
   ]
  },
  {
   "cell_type": "code",
   "execution_count": 39,
   "id": "68fbac8b",
   "metadata": {},
   "outputs": [
    {
     "data": {
      "text/plain": [
       "25"
      ]
     },
     "execution_count": 39,
     "metadata": {},
     "output_type": "execute_result"
    }
   ],
   "source": [
    "a = 25.55055\n",
    "int(a)"
   ]
  },
  {
   "cell_type": "code",
   "execution_count": 41,
   "id": "62c2b8ec",
   "metadata": {},
   "outputs": [
    {
     "data": {
      "text/plain": [
       "30.0"
      ]
     },
     "execution_count": 41,
     "metadata": {},
     "output_type": "execute_result"
    }
   ],
   "source": [
    "b = 30\n",
    "float(b)"
   ]
  },
  {
   "cell_type": "code",
   "execution_count": 45,
   "id": "bc11d210",
   "metadata": {},
   "outputs": [
    {
     "data": {
      "text/plain": [
       "'1001'"
      ]
     },
     "execution_count": 45,
     "metadata": {},
     "output_type": "execute_result"
    }
   ],
   "source": [
    "c = 1001\n",
    "str(c)"
   ]
  },
  {
   "cell_type": "markdown",
   "id": "e9162b93",
   "metadata": {},
   "source": [
    "10. Why does this expression cause an error? How can you fix it?\n",
    "'I have eaten ' + 99 + ' burritos.'"
   ]
  },
  {
   "cell_type": "code",
   "execution_count": 49,
   "id": "589c0d8a",
   "metadata": {},
   "outputs": [
    {
     "data": {
      "text/plain": [
       "'I have eaten 99 burritos.'"
      ]
     },
     "execution_count": 49,
     "metadata": {},
     "output_type": "execute_result"
    }
   ],
   "source": [
    "'I have eaten ' + str(99) + ' burritos.'"
   ]
  },
  {
   "cell_type": "code",
   "execution_count": null,
   "id": "b6828c7c",
   "metadata": {},
   "outputs": [],
   "source": []
  },
  {
   "cell_type": "code",
   "execution_count": null,
   "id": "bff40590",
   "metadata": {},
   "outputs": [],
   "source": []
  },
  {
   "cell_type": "code",
   "execution_count": null,
   "id": "17c19aa0",
   "metadata": {},
   "outputs": [],
   "source": []
  },
  {
   "cell_type": "code",
   "execution_count": null,
   "id": "2145cd6b",
   "metadata": {},
   "outputs": [],
   "source": []
  },
  {
   "cell_type": "code",
   "execution_count": null,
   "id": "f8610944",
   "metadata": {},
   "outputs": [],
   "source": []
  }
 ],
 "metadata": {
  "kernelspec": {
   "display_name": "Python 3",
   "language": "python",
   "name": "python3"
  },
  "language_info": {
   "codemirror_mode": {
    "name": "ipython",
    "version": 3
   },
   "file_extension": ".py",
   "mimetype": "text/x-python",
   "name": "python",
   "nbconvert_exporter": "python",
   "pygments_lexer": "ipython3",
   "version": "3.8.8"
  }
 },
 "nbformat": 4,
 "nbformat_minor": 5
}

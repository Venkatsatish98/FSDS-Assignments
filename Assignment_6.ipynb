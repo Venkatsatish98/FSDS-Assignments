{
 "cells": [
  {
   "cell_type": "markdown",
   "id": "83713dbe",
   "metadata": {},
   "source": [
    "1. What are escape characters, and how do you use them?"
   ]
  },
  {
   "cell_type": "code",
   "execution_count": null,
   "id": "e0856d7f",
   "metadata": {},
   "outputs": [],
   "source": [
    "backslash is used as the escape character.\n",
    "if we need to insert an necessary character in a string but to escape it while execution we can use backslash.\n",
    "the nessary character should be followed by the \\."
   ]
  },
  {
   "cell_type": "markdown",
   "id": "b2c7d2d1",
   "metadata": {},
   "source": [
    "2. What do the escape characters n and t stand for?"
   ]
  },
  {
   "cell_type": "code",
   "execution_count": null,
   "id": "02818ab4",
   "metadata": {},
   "outputs": [],
   "source": [
    "\\n stands for new line and \\t stands for tab"
   ]
  },
  {
   "cell_type": "markdown",
   "id": "a4ed71e3",
   "metadata": {},
   "source": [
    "4. The string \"Howl's Moving Castle\" is a correct value. \n",
    "Why isn't the single quote character in the word Howl's not escaped a problem?"
   ]
  },
  {
   "cell_type": "code",
   "execution_count": 26,
   "id": "6320860b",
   "metadata": {},
   "outputs": [],
   "source": [
    "string = \"Howl's Moving Castle\"\n",
    "the above mentioned string will not be a problem because the whole string is written inside the double quotes but the \n",
    "quote inside the word Howl's is single quote.\n",
    "the meaning of single and double quotes is not same as they are different but they both are allowed to write a string datatype."
   ]
  },
  {
   "cell_type": "markdown",
   "id": "790f5836",
   "metadata": {},
   "source": [
    "5. How do you write a string of newlines if you don't want to use the n character?"
   ]
  },
  {
   "cell_type": "code",
   "execution_count": null,
   "id": "a819853b",
   "metadata": {},
   "outputs": [],
   "source": []
  },
  {
   "cell_type": "markdown",
   "id": "1297e6a8",
   "metadata": {},
   "source": [
    "6. What are the values of the given expressions?\n",
    "'Hello, world!'[1]\n",
    "'Hello, world!'[0:5]\n",
    "'Hello, world!'[:5]\n",
    "'Hello, world!'[3:]\n"
   ]
  },
  {
   "cell_type": "code",
   "execution_count": null,
   "id": "bcc65e32",
   "metadata": {},
   "outputs": [],
   "source": [
    "e\n",
    "Hello,\n",
    "Hello,\n",
    "lo, world!"
   ]
  },
  {
   "cell_type": "markdown",
   "id": "99825e5c",
   "metadata": {},
   "source": [
    "7. What are the values of the following expressions?\n",
    "'Hello'.upper()\n",
    "'Hello'.upper().isupper()\n",
    "'Hello'.upper().lower()\n"
   ]
  },
  {
   "cell_type": "code",
   "execution_count": null,
   "id": "64b9b64c",
   "metadata": {},
   "outputs": [],
   "source": [
    "HELLO\n",
    "True\n",
    "hello"
   ]
  },
  {
   "cell_type": "markdown",
   "id": "c38d818b",
   "metadata": {},
   "source": [
    "8. What are the values of the following expressions?\n",
    "'Remember, remember, the fifth of July.'.split()\n",
    "'-'.join('There can only one.'.split())\n"
   ]
  },
  {
   "cell_type": "code",
   "execution_count": 63,
   "id": "c8a1767e",
   "metadata": {},
   "outputs": [],
   "source": [
    "['Remember,','remember,','the','fifth','of','July.']\n",
    "'There-can-only-one.'"
   ]
  },
  {
   "cell_type": "markdown",
   "id": "86faf8f7",
   "metadata": {},
   "source": [
    "9. What are the methods for right-justifying, left-justifying, and centering a string?"
   ]
  },
  {
   "cell_type": "code",
   "execution_count": null,
   "id": "b013acad",
   "metadata": {},
   "outputs": [],
   "source": [
    "right justifying is the method which is used to justify the string to be aligned right side to required distance.rjust() is the function to be used.\n",
    "left justifying is the method used for left alignment of the string.ljust() is the keyword for left alignment\n",
    "centering is used to align the text in the centre at a required distance.center is the keyword used for centering"
   ]
  },
  {
   "cell_type": "markdown",
   "id": "3066962b",
   "metadata": {},
   "source": [
    "10. What is the best way to remove whitespace characters from the start or end?"
   ]
  },
  {
   "cell_type": "code",
   "execution_count": null,
   "id": "39a61e9d",
   "metadata": {},
   "outputs": [],
   "source": [
    "strip() method is the best way for removing the whitw spaces from start or the end."
   ]
  },
  {
   "cell_type": "code",
   "execution_count": null,
   "id": "ad810294",
   "metadata": {},
   "outputs": [],
   "source": []
  },
  {
   "cell_type": "code",
   "execution_count": null,
   "id": "dbaaacf7",
   "metadata": {},
   "outputs": [],
   "source": []
  }
 ],
 "metadata": {
  "kernelspec": {
   "display_name": "Python 3",
   "language": "python",
   "name": "python3"
  },
  "language_info": {
   "codemirror_mode": {
    "name": "ipython",
    "version": 3
   },
   "file_extension": ".py",
   "mimetype": "text/x-python",
   "name": "python",
   "nbconvert_exporter": "python",
   "pygments_lexer": "ipython3",
   "version": "3.8.8"
  }
 },
 "nbformat": 4,
 "nbformat_minor": 5
}

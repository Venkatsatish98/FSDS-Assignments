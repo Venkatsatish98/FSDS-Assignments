{
 "cells": [
  {
   "cell_type": "markdown",
   "id": "491bd6c5",
   "metadata": {},
   "source": [
    "1.What are the two values of the Boolean data type? How do you write them?"
   ]
  },
  {
   "cell_type": "code",
   "execution_count": null,
   "id": "9798bd5c",
   "metadata": {},
   "outputs": [],
   "source": [
    "The 2 values of boolean datatype are True and False. \n",
    "We compare the values by using comparision operator (==) by expecting boolean output."
   ]
  },
  {
   "cell_type": "markdown",
   "id": "7213a3b7",
   "metadata": {},
   "source": [
    "2. What are the three different types of Boolean operators?"
   ]
  },
  {
   "cell_type": "code",
   "execution_count": null,
   "id": "1eff8270",
   "metadata": {},
   "outputs": [],
   "source": [
    "There are 3 types of boolean operatos.They are and , or & not."
   ]
  },
  {
   "cell_type": "code",
   "execution_count": null,
   "id": "931f2565",
   "metadata": {},
   "outputs": [],
   "source": [
    "3. Make a list of each Boolean operator's truth tables\n",
    "(i.e. every possible combination of Boolean values for the operator and what it evaluate )."
   ]
  },
  {
   "cell_type": "code",
   "execution_count": null,
   "id": "7e23916d",
   "metadata": {},
   "outputs": [],
   "source": [
    "True and True = True\n",
    "True and False = False\n",
    "False and True = False\n",
    "False and False = False"
   ]
  },
  {
   "cell_type": "code",
   "execution_count": null,
   "id": "b5a44b72",
   "metadata": {},
   "outputs": [],
   "source": [
    "True or True = True\n",
    "True or False = True\n",
    "False or True = True\n",
    "False or False = False"
   ]
  },
  {
   "cell_type": "code",
   "execution_count": null,
   "id": "58cd3d0f",
   "metadata": {},
   "outputs": [],
   "source": [
    "not True = False\n",
    "not False = True"
   ]
  },
  {
   "cell_type": "markdown",
   "id": "0a2e8564",
   "metadata": {},
   "source": [
    "4. What are the values of the following expressions?\n",
    "(5 > 4) and (3 == 5)\n",
    "not (5 > 4)\n",
    "(5 > 4) or (3 == 5)\n",
    "not ((5 > 4) or (3 == 5))\n",
    "(True and True) and (True == False)\n",
    "(not False) or (not True)\n"
   ]
  },
  {
   "cell_type": "code",
   "execution_count": null,
   "id": "92f16e9b",
   "metadata": {},
   "outputs": [],
   "source": [
    "False\n",
    "False\n",
    "True\n",
    "False\n",
    "False\n",
    "True"
   ]
  },
  {
   "cell_type": "markdown",
   "id": "ffc12612",
   "metadata": {},
   "source": [
    "5. What are the six comparison operators?"
   ]
  },
  {
   "cell_type": "code",
   "execution_count": null,
   "id": "68f2aad6",
   "metadata": {},
   "outputs": [],
   "source": [
    "There are six main comparison operators: equal to, not equal to, greater than, greater than or equal to, less than, and less than or equal to"
   ]
  },
  {
   "cell_type": "code",
   "execution_count": null,
   "id": "fe1f0da4",
   "metadata": {},
   "outputs": [],
   "source": [
    "There are 6 comparision operators.\n",
    "== (equal to)\n",
    "!= (not equal to)\n",
    "> (greater than)\n",
    "< (less than)\n",
    ">= (greater than or equal to)\n",
    "<= (less than or equal to)"
   ]
  },
  {
   "cell_type": "markdown",
   "id": "250c8d5e",
   "metadata": {},
   "source": [
    "6. How do you tell the difference between the equal to and assignment operators?Describe a condition and when you would use one."
   ]
  },
  {
   "cell_type": "code",
   "execution_count": null,
   "id": "98a2a33d",
   "metadata": {},
   "outputs": [],
   "source": [
    "equal to is a comparision operator in which it will be used while comparing 2 values or expressions.\n",
    "assignment operator is to assign the value to a variable.\n",
    "for eg.\n",
    "a = 2\n",
    "b = 2\n",
    "Here we have assigned the value 2 for the variables a and b.\n",
    "\n",
    "a+b == a**b\n",
    "Here we are trying compare 2 expressions whether the condition satisfied or not.\n",
    "if it returns True then the condition is satisfied and if returns false then the condition is not satisfied."
   ]
  },
  {
   "cell_type": "markdown",
   "id": "7ad212b9",
   "metadata": {},
   "source": [
    "7. Identify the three blocks in this code:\n",
    "spam = 0\n",
    "if spam == 10:\n",
    "        print('eggs')\n",
    "    if spam > 5:\n",
    "        print('bacon')\n",
    "    else:\n",
    "        print('ham')\n",
    "    print('spam')\n",
    "print('spam')\n"
   ]
  },
  {
   "cell_type": "code",
   "execution_count": null,
   "id": "c54538b4",
   "metadata": {},
   "outputs": [],
   "source": [
    "spam = 0\n",
    "if spam == 10:          \n",
    "    print('eggs')       # Block 1 as indented\n",
    "    if spam > 5:        # Block 1 contunuation\n",
    "        print('bacon')  # Block 2 as indented\n",
    "    else:               # Block 2 ended as unindented\n",
    "        print('ham')    # Block 3 as indented\n",
    "    print('spam')       # Block 3 ended as unindented\n",
    "print('spam')           # Block 1 ended as unindented"
   ]
  },
  {
   "cell_type": "markdown",
   "id": "99cce10d",
   "metadata": {},
   "source": [
    "8. Write code that prints Hello if 1 is stored in spam, prints Howdy if 2 is stored in spam, and prints Greetings! \n",
    "if anything else is stored in spam."
   ]
  },
  {
   "cell_type": "code",
   "execution_count": null,
   "id": "a0c7ef27",
   "metadata": {},
   "outputs": [],
   "source": [
    "spam = int(input())\n",
    "if spam ==1:\n",
    "    print('Hello')\n",
    "elif spam == 2:\n",
    "    print('Howdy')\n",
    "else:\n",
    "    print('Greetings!')"
   ]
  },
  {
   "cell_type": "markdown",
   "id": "1172bd7a",
   "metadata": {},
   "source": [
    "9.If your programme is stuck in an endless loop, what keys you’ll press?"
   ]
  },
  {
   "cell_type": "code",
   "execution_count": null,
   "id": "b3dc599e",
   "metadata": {},
   "outputs": [],
   "source": [
    "if we stuck in endless loop we press the interrupt key to forcestop the loop."
   ]
  },
  {
   "cell_type": "markdown",
   "id": "0faa8908",
   "metadata": {},
   "source": [
    "10. How can you tell the difference between break and continue?"
   ]
  },
  {
   "cell_type": "code",
   "execution_count": null,
   "id": "1261a1d0",
   "metadata": {},
   "outputs": [],
   "source": [
    "when we use break statement then the iteration will stop at that particular location and will force it to get out of the loop and prints the result.\n",
    "if we use continue statement then the iteration will jump at that particulal location and will continue the loop asusual and prints the result."
   ]
  },
  {
   "cell_type": "markdown",
   "id": "f01bab1a",
   "metadata": {},
   "source": [
    "11. In a for loop, what is the difference between range(10), range(0, 10), and range(0, 10, 1)?"
   ]
  },
  {
   "cell_type": "code",
   "execution_count": null,
   "id": "709786a2",
   "metadata": {},
   "outputs": [],
   "source": [
    "There is no difference between range(10) and range(0,10) and range(0, 10, 1)\n",
    "in the range function,we are supposed to give 3 values.The first value is called start.second one called end & third one is step\n",
    "if we have not given the start value, by default it takes it as 0.\n",
    "we should give the end value as it is necessary.\n",
    "The step value by default is taken as 1."
   ]
  },
  {
   "cell_type": "markdown",
   "id": "51d4956a",
   "metadata": {},
   "source": [
    "12. Write a short program that prints the numbers 1 to 10 using a for loop. \n",
    "Then write an equivalent program that prints the numbers 1 to 10 using a while loop."
   ]
  },
  {
   "cell_type": "code",
   "execution_count": 80,
   "id": "f3a50260",
   "metadata": {},
   "outputs": [
    {
     "name": "stdout",
     "output_type": "stream",
     "text": [
      "1\n",
      "2\n",
      "3\n",
      "4\n",
      "5\n",
      "6\n",
      "7\n",
      "8\n",
      "9\n",
      "10\n"
     ]
    }
   ],
   "source": [
    "for i in range(1,11):\n",
    "    print(i)"
   ]
  },
  {
   "cell_type": "code",
   "execution_count": 108,
   "id": "dc65b7bf",
   "metadata": {},
   "outputs": [
    {
     "name": "stdout",
     "output_type": "stream",
     "text": [
      "1\n",
      "2\n",
      "3\n",
      "4\n",
      "5\n",
      "6\n",
      "7\n",
      "8\n",
      "9\n",
      "10\n"
     ]
    }
   ],
   "source": [
    "q = 0\n",
    "while q<=9:\n",
    "    q=q+1\n",
    "    print(q)"
   ]
  },
  {
   "cell_type": "markdown",
   "id": "73513e3a",
   "metadata": {},
   "source": [
    "13. If you had a function named bacon() inside a module named spam, how would you call it after importing spam?"
   ]
  },
  {
   "cell_type": "code",
   "execution_count": null,
   "id": "2ca87aab",
   "metadata": {},
   "outputs": [],
   "source": [
    "spam.bacon()"
   ]
  },
  {
   "cell_type": "code",
   "execution_count": null,
   "id": "3e73815a",
   "metadata": {},
   "outputs": [],
   "source": []
  },
  {
   "cell_type": "code",
   "execution_count": null,
   "id": "8ad8ec0a",
   "metadata": {},
   "outputs": [],
   "source": []
  },
  {
   "cell_type": "code",
   "execution_count": null,
   "id": "fbb3359d",
   "metadata": {},
   "outputs": [],
   "source": []
  },
  {
   "cell_type": "code",
   "execution_count": null,
   "id": "421e8644",
   "metadata": {},
   "outputs": [],
   "source": []
  },
  {
   "cell_type": "code",
   "execution_count": null,
   "id": "618a5462",
   "metadata": {},
   "outputs": [],
   "source": []
  }
 ],
 "metadata": {
  "kernelspec": {
   "display_name": "Python 3",
   "language": "python",
   "name": "python3"
  },
  "language_info": {
   "codemirror_mode": {
    "name": "ipython",
    "version": 3
   },
   "file_extension": ".py",
   "mimetype": "text/x-python",
   "name": "python",
   "nbconvert_exporter": "python",
   "pygments_lexer": "ipython3",
   "version": "3.8.8"
  }
 },
 "nbformat": 4,
 "nbformat_minor": 5
}

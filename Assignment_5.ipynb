{
 "cells": [
  {
   "cell_type": "markdown",
   "id": "3b435959",
   "metadata": {},
   "source": [
    "1. What does an empty dictionary's code look like?"
   ]
  },
  {
   "cell_type": "code",
   "execution_count": 7,
   "id": "8de767ea",
   "metadata": {},
   "outputs": [
    {
     "data": {
      "text/plain": [
       "dict"
      ]
     },
     "execution_count": 7,
     "metadata": {},
     "output_type": "execute_result"
    }
   ],
   "source": [
    "dict_1 = {}\n",
    "type(dict_1)"
   ]
  },
  {
   "cell_type": "markdown",
   "id": "a2d36fbd",
   "metadata": {},
   "source": [
    "2. What is the value of a dictionary value with the key 'foo' and the value 42?"
   ]
  },
  {
   "cell_type": "code",
   "execution_count": 20,
   "id": "5e08b151",
   "metadata": {},
   "outputs": [
    {
     "data": {
      "text/plain": [
       "42"
      ]
     },
     "execution_count": 20,
     "metadata": {},
     "output_type": "execute_result"
    }
   ],
   "source": [
    "dict_2 = {'foo':42}\n",
    "dict_2['foo']"
   ]
  },
  {
   "cell_type": "markdown",
   "id": "328b6c64",
   "metadata": {},
   "source": [
    "3. What is the most significant distinction between a dictionary and a list?"
   ]
  },
  {
   "cell_type": "code",
   "execution_count": null,
   "id": "ad724a66",
   "metadata": {},
   "outputs": [],
   "source": [
    "lists only contains the values whereas dictionaries contain keys and values.\n",
    "lists are can be accessed by the indexes whereas dictionaries can be accessed by its keys.\n",
    "lists are identified by the square braces and dictionaries will have curly braces.\n"
   ]
  },
  {
   "cell_type": "markdown",
   "id": "e9ba88f5",
   "metadata": {},
   "source": [
    "4. What happens if you try to access spam['foo'] if spam is {'bar': 100}?"
   ]
  },
  {
   "cell_type": "code",
   "execution_count": null,
   "id": "89239f04",
   "metadata": {},
   "outputs": [],
   "source": [
    "it will throw the keyerror as the foo does not exist in spam."
   ]
  },
  {
   "cell_type": "markdown",
   "id": "722d2c2c",
   "metadata": {},
   "source": [
    "5. If a dictionary is stored in spam, what is the difference between the expressions 'cat' in spam and 'cat' in spam.keys()?"
   ]
  },
  {
   "cell_type": "code",
   "execution_count": null,
   "id": "6136577f",
   "metadata": {},
   "outputs": [],
   "source": [
    "cat in spam checks whether the cat exists in the keys of spam by default.\n",
    "'cat' in spam.keys() will check whether the cat exists in the keys of the spam."
   ]
  },
  {
   "cell_type": "markdown",
   "id": "e3fd1d1e",
   "metadata": {},
   "source": [
    "6. If a dictionary is stored in spam, what is the difference between the expressions 'cat' in spam and 'cat' in spam.values()?"
   ]
  },
  {
   "cell_type": "code",
   "execution_count": null,
   "id": "727d7a98",
   "metadata": {},
   "outputs": [],
   "source": [
    "cat in spam checks whether the cat exists in the keys spam by default.\n",
    "'cat' in spam.values() will check whether the cat exists in the values of the spam."
   ]
  },
  {
   "cell_type": "markdown",
   "id": "45367246",
   "metadata": {},
   "source": [
    "7. What is a shortcut for the following code?\n",
    "if 'color' not in spam:\n",
    "     spam['color'] = 'black'\n"
   ]
  },
  {
   "cell_type": "code",
   "execution_count": 37,
   "id": "a35da39f",
   "metadata": {},
   "outputs": [
    {
     "data": {
      "text/plain": [
       "{'bar': 100}"
      ]
     },
     "execution_count": 37,
     "metadata": {},
     "output_type": "execute_result"
    }
   ],
   "source": [
    "spam"
   ]
  },
  {
   "cell_type": "code",
   "execution_count": 38,
   "id": "cec5cfb3",
   "metadata": {},
   "outputs": [],
   "source": [
    "spam['color'] = 'black'   # if there is no key named color, then it will create a new key and will assign the given value to it.\n",
    "                         # if the key named color already exists, then it will assign the new value to it."
   ]
  },
  {
   "cell_type": "code",
   "execution_count": 39,
   "id": "7d72ca26",
   "metadata": {},
   "outputs": [
    {
     "data": {
      "text/plain": [
       "{'bar': 100, 'color': 'black'}"
      ]
     },
     "execution_count": 39,
     "metadata": {},
     "output_type": "execute_result"
    }
   ],
   "source": [
    "spam"
   ]
  },
  {
   "cell_type": "code",
   "execution_count": null,
   "id": "db0cfc9e",
   "metadata": {},
   "outputs": [],
   "source": [
    "8. How do you \"pretty print\" dictionary values using which module and function?"
   ]
  },
  {
   "cell_type": "code",
   "execution_count": null,
   "id": "261b80bd",
   "metadata": {},
   "outputs": [],
   "source": [
    "we can prettyprint the dictionary values from the pprint module using pprint() function"
   ]
  },
  {
   "cell_type": "code",
   "execution_count": null,
   "id": "a68e9e22",
   "metadata": {},
   "outputs": [],
   "source": []
  },
  {
   "cell_type": "code",
   "execution_count": null,
   "id": "2178d60e",
   "metadata": {},
   "outputs": [],
   "source": []
  },
  {
   "cell_type": "code",
   "execution_count": null,
   "id": "9a197522",
   "metadata": {},
   "outputs": [],
   "source": []
  },
  {
   "cell_type": "code",
   "execution_count": null,
   "id": "b6ca69c4",
   "metadata": {},
   "outputs": [],
   "source": []
  },
  {
   "cell_type": "code",
   "execution_count": null,
   "id": "2fbe988a",
   "metadata": {},
   "outputs": [],
   "source": []
  },
  {
   "cell_type": "code",
   "execution_count": null,
   "id": "35cde035",
   "metadata": {},
   "outputs": [],
   "source": []
  },
  {
   "cell_type": "code",
   "execution_count": null,
   "id": "d01ce4a1",
   "metadata": {},
   "outputs": [],
   "source": []
  },
  {
   "cell_type": "code",
   "execution_count": null,
   "id": "1dc200fb",
   "metadata": {},
   "outputs": [],
   "source": []
  }
 ],
 "metadata": {
  "kernelspec": {
   "display_name": "Python 3",
   "language": "python",
   "name": "python3"
  },
  "language_info": {
   "codemirror_mode": {
    "name": "ipython",
    "version": 3
   },
   "file_extension": ".py",
   "mimetype": "text/x-python",
   "name": "python",
   "nbconvert_exporter": "python",
   "pygments_lexer": "ipython3",
   "version": "3.8.8"
  }
 },
 "nbformat": 4,
 "nbformat_minor": 5
}

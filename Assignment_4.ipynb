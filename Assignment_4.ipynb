{
 "cells": [
  {
   "cell_type": "markdown",
   "id": "c05983c3",
   "metadata": {},
   "source": [
    "1. What exactly is []?"
   ]
  },
  {
   "cell_type": "code",
   "execution_count": null,
   "id": "cfb43343",
   "metadata": {},
   "outputs": [],
   "source": [
    "Square braces are used to indicate list datatype in python. The list with no data inside will be considered as an empty list."
   ]
  },
  {
   "cell_type": "markdown",
   "id": "16bfd8fa",
   "metadata": {},
   "source": [
    "2. In a list of values stored in a variable called spam, how would you assign the value 'hello' as the third value? \n",
    "(Assume [2, 4, 6, 8, 10] are in spam.)"
   ]
  },
  {
   "cell_type": "code",
   "execution_count": 31,
   "id": "75f7e0c4",
   "metadata": {},
   "outputs": [
    {
     "name": "stdout",
     "output_type": "stream",
     "text": [
      "[2, 4, 'hello', 8, 10]\n"
     ]
    }
   ],
   "source": [
    "spam = [2, 4, 6, 8, 10] \n",
    "spam[2] = 'hello'\n",
    "print(spam)"
   ]
  },
  {
   "cell_type": "markdown",
   "id": "d8910be6",
   "metadata": {},
   "source": [
    "3. What is the value of spam[int(int('3' * 2) / 11)]?\n",
    "spam = ['a, 'b, 'c', 'd']"
   ]
  },
  {
   "cell_type": "code",
   "execution_count": 40,
   "id": "80751059",
   "metadata": {},
   "outputs": [
    {
     "data": {
      "text/plain": [
       "'d'"
      ]
     },
     "execution_count": 40,
     "metadata": {},
     "output_type": "execute_result"
    }
   ],
   "source": [
    "spam = ['a', 'b', 'c', 'd']\n",
    "spam[int(int('3' * 2) / 11)] # spam[int(int('3' * 2) / 11)] will be spam[3]"
   ]
  },
  {
   "cell_type": "markdown",
   "id": "a282504b",
   "metadata": {},
   "source": [
    "4. What is the value of spam[-1]?"
   ]
  },
  {
   "cell_type": "code",
   "execution_count": 41,
   "id": "97405edc",
   "metadata": {},
   "outputs": [
    {
     "data": {
      "text/plain": [
       "'d'"
      ]
     },
     "execution_count": 41,
     "metadata": {},
     "output_type": "execute_result"
    }
   ],
   "source": [
    "spam[-1] #it is going to slice in the reverse order as we have mentioned the negative number"
   ]
  },
  {
   "cell_type": "markdown",
   "id": "97bf62ae",
   "metadata": {},
   "source": [
    "5. What is the value of spam[:2]?"
   ]
  },
  {
   "cell_type": "code",
   "execution_count": 42,
   "id": "16d9f010",
   "metadata": {},
   "outputs": [
    {
     "data": {
      "text/plain": [
       "['a', 'b']"
      ]
     },
     "execution_count": 42,
     "metadata": {},
     "output_type": "execute_result"
    }
   ],
   "source": [
    "spam[:2]   # by default start is 0 and step is 1"
   ]
  },
  {
   "cell_type": "markdown",
   "id": "902cb1de",
   "metadata": {},
   "source": [
    "6. What is the value of bacon.index('cat')?\n",
    "bacon = [3.14, 'cat,' 11, 'cat,' True]"
   ]
  },
  {
   "cell_type": "code",
   "execution_count": 3,
   "id": "8145a249",
   "metadata": {},
   "outputs": [],
   "source": [
    "bacon = [3.14, 'cat', 11, 'cat', True]"
   ]
  },
  {
   "cell_type": "code",
   "execution_count": 4,
   "id": "d6270e7e",
   "metadata": {},
   "outputs": [
    {
     "data": {
      "text/plain": [
       "1"
      ]
     },
     "execution_count": 4,
     "metadata": {},
     "output_type": "execute_result"
    }
   ],
   "source": [
    "bacon.index('cat')"
   ]
  },
  {
   "cell_type": "markdown",
   "id": "146659ef",
   "metadata": {},
   "source": [
    "7. How does bacon.append(99) change the look of the list value in bacon?"
   ]
  },
  {
   "cell_type": "code",
   "execution_count": 9,
   "id": "d50f1afa",
   "metadata": {},
   "outputs": [
    {
     "data": {
      "text/plain": [
       "[3.14, 'cat', 11, 'cat', True, 99]"
      ]
     },
     "execution_count": 9,
     "metadata": {},
     "output_type": "execute_result"
    }
   ],
   "source": [
    "bacon.append(99)\n",
    "bacon"
   ]
  },
  {
   "cell_type": "markdown",
   "id": "1bdcc861",
   "metadata": {},
   "source": [
    "8. How does bacon.remove('cat') change the look of the list in bacon?"
   ]
  },
  {
   "cell_type": "code",
   "execution_count": 10,
   "id": "65d6750f",
   "metadata": {},
   "outputs": [
    {
     "data": {
      "text/plain": [
       "[3.14, 11, 'cat', True, 99]"
      ]
     },
     "execution_count": 10,
     "metadata": {},
     "output_type": "execute_result"
    }
   ],
   "source": [
    "bacon.remove('cat')\n",
    "bacon"
   ]
  },
  {
   "cell_type": "markdown",
   "id": "df38bed4",
   "metadata": {},
   "source": [
    "9. What are the list concatenation and list replication operators?"
   ]
  },
  {
   "cell_type": "code",
   "execution_count": null,
   "id": "9f35bff7",
   "metadata": {},
   "outputs": [],
   "source": [
    "list concatenation is to add two lists with the help of +, and the replication is to multiply the list with operator *."
   ]
  },
  {
   "cell_type": "markdown",
   "id": "dd9a3f83",
   "metadata": {},
   "source": [
    "10. What is difference between the list methods append() and insert()?"
   ]
  },
  {
   "cell_type": "code",
   "execution_count": null,
   "id": "b4a57ea4",
   "metadata": {},
   "outputs": [],
   "source": [
    "append method will only allow to add the data at the end of the list.\n",
    "insert method can be used when we need to insert the data at a particular index point."
   ]
  },
  {
   "cell_type": "markdown",
   "id": "5d3cbc74",
   "metadata": {},
   "source": [
    "11. What are the two methods for removing items from a list?"
   ]
  },
  {
   "cell_type": "code",
   "execution_count": 29,
   "id": "099393ad",
   "metadata": {},
   "outputs": [],
   "source": [
    "pop and remove are the methods for removing items in a list.\n",
    "pop is used when we know the index number of the value that which to be removed.\n",
    "remove is used when we are not aware about the indexes and will directly pass the value in the remove function."
   ]
  },
  {
   "cell_type": "markdown",
   "id": "893faec2",
   "metadata": {},
   "source": [
    "12. Describe how list values and string values are identical."
   ]
  },
  {
   "cell_type": "code",
   "execution_count": null,
   "id": "a92e671e",
   "metadata": {},
   "outputs": [],
   "source": [
    "list values and string values are identical as they can be accessed by using the indexes.we can perform slicing operations\n",
    "for the lists and strings in the same way.\n",
    "However string is immutable and lists are mutable."
   ]
  },
  {
   "cell_type": "markdown",
   "id": "56073ada",
   "metadata": {},
   "source": [
    "13. What's the difference between tuples and lists?"
   ]
  },
  {
   "cell_type": "code",
   "execution_count": null,
   "id": "c39e803c",
   "metadata": {},
   "outputs": [],
   "source": [
    "the major difference between tuples and lists is tuples are immutable and lists are mutable.\n",
    "we cannot modify data in the tuples as they are immutable but we can modify data in the lists\n",
    "tuples are can be idetified with the paranthesis where as lists uses the square braces.\n"
   ]
  },
  {
   "cell_type": "markdown",
   "id": "cec0b566",
   "metadata": {},
   "source": [
    "14. How do you type a tuple value that only contains the integer 42?"
   ]
  },
  {
   "cell_type": "code",
   "execution_count": 33,
   "id": "568c5431",
   "metadata": {},
   "outputs": [],
   "source": [
    "tup = (42)"
   ]
  },
  {
   "cell_type": "markdown",
   "id": "a7460feb",
   "metadata": {},
   "source": [
    "15. How do you get a list value's tuple form? How do you get a tuple value's list form?"
   ]
  },
  {
   "cell_type": "code",
   "execution_count": 34,
   "id": "176842e9",
   "metadata": {},
   "outputs": [],
   "source": [
    "we can get list values tuple form by converting the the tuples into list\n",
    "tuple_1 = (1,2,3,\"hai\", \"hello\")"
   ]
  },
  {
   "cell_type": "code",
   "execution_count": 38,
   "id": "336eb7ad",
   "metadata": {},
   "outputs": [],
   "source": [
    "A = list(tuple_1)\n",
    "B = tuple(A)"
   ]
  },
  {
   "cell_type": "markdown",
   "id": "1b5f5e6b",
   "metadata": {},
   "source": [
    "16. Variables that \"contain\" list values are not necessarily lists themselves. Instead, what do they contain?"
   ]
  },
  {
   "cell_type": "code",
   "execution_count": null,
   "id": "fc2c7810",
   "metadata": {},
   "outputs": [],
   "source": [
    "they contain the references of the list values instead of list values."
   ]
  },
  {
   "cell_type": "code",
   "execution_count": null,
   "id": "2ce62e7a",
   "metadata": {},
   "outputs": [],
   "source": []
  },
  {
   "cell_type": "code",
   "execution_count": null,
   "id": "6765b376",
   "metadata": {},
   "outputs": [],
   "source": []
  },
  {
   "cell_type": "code",
   "execution_count": null,
   "id": "3e20aaf8",
   "metadata": {},
   "outputs": [],
   "source": []
  }
 ],
 "metadata": {
  "kernelspec": {
   "display_name": "Python 3",
   "language": "python",
   "name": "python3"
  },
  "language_info": {
   "codemirror_mode": {
    "name": "ipython",
    "version": 3
   },
   "file_extension": ".py",
   "mimetype": "text/x-python",
   "name": "python",
   "nbconvert_exporter": "python",
   "pygments_lexer": "ipython3",
   "version": "3.8.8"
  }
 },
 "nbformat": 4,
 "nbformat_minor": 5
}

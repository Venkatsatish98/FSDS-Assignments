{
 "cells": [
  {
   "cell_type": "code",
   "execution_count": null,
   "id": "fa2f9ce0",
   "metadata": {},
   "outputs": [],
   "source": [
    "1. What advantages do Excel spreadsheets have over CSV spreadsheets?"
   ]
  },
  {
   "cell_type": "code",
   "execution_count": null,
   "id": "7ac89cd9",
   "metadata": {},
   "outputs": [],
   "source": [
    "Excel is easy to read & understand the data.\n",
    "Excel can use formulas and functions for better use of numerical data while compared to csv files.\n",
    "We can also protect the excel files using the password where as csv files can't be protected."
   ]
  },
  {
   "cell_type": "markdown",
   "id": "a7769844",
   "metadata": {},
   "source": [
    "# "
   ]
  },
  {
   "cell_type": "markdown",
   "id": "e16404fb",
   "metadata": {},
   "source": [
    "# "
   ]
  },
  {
   "cell_type": "code",
   "execution_count": null,
   "id": "6cbbe030",
   "metadata": {},
   "outputs": [],
   "source": [
    "2.What do you pass to csv.reader() and csv.writer() to create reader and writer objects?"
   ]
  },
  {
   "cell_type": "code",
   "execution_count": null,
   "id": "a4400031",
   "metadata": {},
   "outputs": [],
   "source": [
    "reader = csv.reader(file,mode = 'r')\n",
    "\n",
    "writer = csv.writer(file, mode = '\\t')"
   ]
  },
  {
   "cell_type": "markdown",
   "id": "ae3d7eb1",
   "metadata": {},
   "source": [
    "# "
   ]
  },
  {
   "cell_type": "markdown",
   "id": "690cbbb1",
   "metadata": {},
   "source": [
    "# "
   ]
  },
  {
   "cell_type": "code",
   "execution_count": null,
   "id": "396429f0",
   "metadata": {},
   "outputs": [],
   "source": [
    "3. What modes do File objects for reader and writer objects need to be opened in?"
   ]
  },
  {
   "cell_type": "code",
   "execution_count": null,
   "id": "7ed8841f",
   "metadata": {},
   "outputs": [],
   "source": [
    "read mode which is represented by 'r', and write mode which is represented by 'w'."
   ]
  },
  {
   "cell_type": "markdown",
   "id": "97a74bff",
   "metadata": {},
   "source": [
    "# "
   ]
  },
  {
   "cell_type": "markdown",
   "id": "34cc0ef3",
   "metadata": {},
   "source": [
    "# "
   ]
  },
  {
   "cell_type": "code",
   "execution_count": null,
   "id": "2a0a1e76",
   "metadata": {},
   "outputs": [],
   "source": [
    "4. What method takes a list argument and writes it to a CSV file?"
   ]
  },
  {
   "cell_type": "code",
   "execution_count": null,
   "id": "281ff1c1",
   "metadata": {},
   "outputs": [],
   "source": [
    "writer = csv.writer(file)\n",
    "writer.writerow() it will take an arument as a list for adding a row.\n",
    "writer.writerows() it will take multiple lists as an arguments for adding multiple rows."
   ]
  },
  {
   "cell_type": "markdown",
   "id": "d9b3610b",
   "metadata": {},
   "source": [
    "# "
   ]
  },
  {
   "cell_type": "markdown",
   "id": "66860d23",
   "metadata": {},
   "source": [
    "# "
   ]
  },
  {
   "cell_type": "code",
   "execution_count": null,
   "id": "1d096551",
   "metadata": {},
   "outputs": [],
   "source": [
    "5. What do the keyword arguments delimiter and line terminator do?"
   ]
  },
  {
   "cell_type": "code",
   "execution_count": null,
   "id": "ecc58e15",
   "metadata": {},
   "outputs": [],
   "source": [
    "Delimiter is the character that which separates the values or strings in the file.mostly used delimeters are commas(,),\n",
    "tabs(\\t), semicolons(;)\n",
    "\n",
    "Lineterminator is a character that which used to indicated to terminate the line.mostly use ineterminators are \\n, \\r."
   ]
  },
  {
   "cell_type": "markdown",
   "id": "a27f4032",
   "metadata": {},
   "source": [
    "# "
   ]
  },
  {
   "cell_type": "markdown",
   "id": "ced98c87",
   "metadata": {},
   "source": [
    "# "
   ]
  },
  {
   "cell_type": "code",
   "execution_count": null,
   "id": "5ad4ab2b",
   "metadata": {},
   "outputs": [],
   "source": [
    "6. What function takes a string of JSON data and returns a Python data structure?"
   ]
  },
  {
   "cell_type": "code",
   "execution_count": null,
   "id": "486158e0",
   "metadata": {},
   "outputs": [],
   "source": [
    "json.loads() method returns the Python data structure of JSON data.The module named json is to be imported to perform."
   ]
  },
  {
   "cell_type": "markdown",
   "id": "494e4b22",
   "metadata": {},
   "source": [
    "# "
   ]
  },
  {
   "cell_type": "markdown",
   "id": "b1721473",
   "metadata": {},
   "source": [
    "# "
   ]
  },
  {
   "cell_type": "code",
   "execution_count": null,
   "id": "07d7aab6",
   "metadata": {},
   "outputs": [],
   "source": [
    "7. What function takes a Python data structure and returns a string of JSON data?"
   ]
  },
  {
   "cell_type": "code",
   "execution_count": null,
   "id": "663e0f9b",
   "metadata": {},
   "outputs": [],
   "source": [
    "json.dumps() method returns the JSON data of Python data structure .The module named json is to be imported to perform."
   ]
  },
  {
   "cell_type": "code",
   "execution_count": null,
   "id": "7618b6ec",
   "metadata": {},
   "outputs": [],
   "source": []
  },
  {
   "cell_type": "code",
   "execution_count": null,
   "id": "7c6be567",
   "metadata": {},
   "outputs": [],
   "source": []
  }
 ],
 "metadata": {
  "kernelspec": {
   "display_name": "Python 3",
   "language": "python",
   "name": "python3"
  },
  "language_info": {
   "codemirror_mode": {
    "name": "ipython",
    "version": 3
   },
   "file_extension": ".py",
   "mimetype": "text/x-python",
   "name": "python",
   "nbconvert_exporter": "python",
   "pygments_lexer": "ipython3",
   "version": "3.8.8"
  }
 },
 "nbformat": 4,
 "nbformat_minor": 5
}

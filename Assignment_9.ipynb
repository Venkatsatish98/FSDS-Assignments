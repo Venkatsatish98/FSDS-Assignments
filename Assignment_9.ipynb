{
 "cells": [
  {
   "cell_type": "code",
   "execution_count": null,
   "id": "336ee1ff",
   "metadata": {},
   "outputs": [],
   "source": [
    "1. To what does a relative path refer? "
   ]
  },
  {
   "cell_type": "code",
   "execution_count": null,
   "id": "16c41a7b",
   "metadata": {},
   "outputs": [],
   "source": [
    "Relative path is a path that which related to the present working directory.\n",
    "If we want to move into some another file from our present working directory, then relative path comes into the picture.\n",
    "Relative path uses a single dot(.) and double dots(..)."
   ]
  },
  {
   "cell_type": "markdown",
   "id": "812386d7",
   "metadata": {},
   "source": [
    "# "
   ]
  },
  {
   "cell_type": "markdown",
   "id": "007156f8",
   "metadata": {},
   "source": [
    "# "
   ]
  },
  {
   "cell_type": "code",
   "execution_count": null,
   "id": "72dd4896",
   "metadata": {},
   "outputs": [],
   "source": [
    "2. What does an absolute path start with your operating system?"
   ]
  },
  {
   "cell_type": "code",
   "execution_count": null,
   "id": "e572bdb5",
   "metadata": {},
   "outputs": [],
   "source": [
    "Absolute path starts with the forward slash(\\) in my operating system."
   ]
  },
  {
   "cell_type": "markdown",
   "id": "0bc36145",
   "metadata": {},
   "source": [
    "# "
   ]
  },
  {
   "cell_type": "markdown",
   "id": "0806dfd5",
   "metadata": {},
   "source": [
    "# "
   ]
  },
  {
   "cell_type": "code",
   "execution_count": null,
   "id": "d3c606dd",
   "metadata": {},
   "outputs": [],
   "source": [
    "3. What do the functions os.getcwd() and os.chdir() do?"
   ]
  },
  {
   "cell_type": "code",
   "execution_count": null,
   "id": "0bb8eb0a",
   "metadata": {},
   "outputs": [],
   "source": [
    "os.getcwd() gives us the current working directory which we are currently in.\n",
    "os.chdir() will require the relative path and it will change the directory as per the given path."
   ]
  },
  {
   "cell_type": "markdown",
   "id": "f5d24ad8",
   "metadata": {},
   "source": [
    "# "
   ]
  },
  {
   "cell_type": "markdown",
   "id": "778171b6",
   "metadata": {},
   "source": [
    "# "
   ]
  },
  {
   "cell_type": "code",
   "execution_count": null,
   "id": "ed115a4f",
   "metadata": {},
   "outputs": [],
   "source": [
    "4. What are the . and .. folders?"
   ]
  },
  {
   "cell_type": "code",
   "execution_count": null,
   "id": "9ae70a80",
   "metadata": {},
   "outputs": [],
   "source": [
    "single dot (.)represents to continue with the current directory where as double dot (..) is used to move up(step back)\n",
    "from the current folder.\n",
    ". and .. plays a key role in the case of relative path for changing and accessing the required files from the current \n",
    "directory."
   ]
  },
  {
   "cell_type": "markdown",
   "id": "ddef6c94",
   "metadata": {},
   "source": [
    "# "
   ]
  },
  {
   "cell_type": "markdown",
   "id": "ae4e5256",
   "metadata": {},
   "source": [
    "# "
   ]
  },
  {
   "cell_type": "code",
   "execution_count": null,
   "id": "7c365c53",
   "metadata": {},
   "outputs": [],
   "source": [
    "5. In C:\\bacon\\eggs\\spam.txt, which part is the dir name, and which part is the base name?"
   ]
  },
  {
   "cell_type": "code",
   "execution_count": null,
   "id": "c3975648",
   "metadata": {},
   "outputs": [],
   "source": [
    "In the given path C:\\bacon\\eggs\\  is the dir name and  spam.txt  is the base name."
   ]
  },
  {
   "cell_type": "markdown",
   "id": "d4afaf1f",
   "metadata": {},
   "source": [
    "# "
   ]
  },
  {
   "cell_type": "markdown",
   "id": "ee4d020e",
   "metadata": {},
   "source": [
    "# "
   ]
  },
  {
   "cell_type": "code",
   "execution_count": null,
   "id": "937d4332",
   "metadata": {},
   "outputs": [],
   "source": [
    "6. What are the three “mode” arguments that can be passed to the open() function?"
   ]
  },
  {
   "cell_type": "code",
   "execution_count": null,
   "id": "7ff0590c",
   "metadata": {},
   "outputs": [],
   "source": [
    "The three modes in the open function are read mode('r'), write mode('w'), and read and write mode('r+').\n",
    "Read mode will helps to only read the data.\n",
    "Wtite mode will helps to write the data in that particular file.\n",
    "Read & write mode will helps to do the both."
   ]
  },
  {
   "cell_type": "markdown",
   "id": "6ca0eef5",
   "metadata": {},
   "source": [
    "# "
   ]
  },
  {
   "cell_type": "markdown",
   "id": "70db2f15",
   "metadata": {},
   "source": [
    "# "
   ]
  },
  {
   "cell_type": "code",
   "execution_count": null,
   "id": "fcf93666",
   "metadata": {},
   "outputs": [],
   "source": [
    "7. What happens if an existing file is opened in write mode?"
   ]
  },
  {
   "cell_type": "code",
   "execution_count": null,
   "id": "d8131acf",
   "metadata": {},
   "outputs": [],
   "source": [
    "If the existing file opened in write mode, then the current data in the existing file will be removed and updated with the new \n",
    "written data.\n",
    "Even if the file opened in write mode and closed without writing any data in it, all the data inside the file will be deleted"
   ]
  },
  {
   "cell_type": "markdown",
   "id": "98feab82",
   "metadata": {},
   "source": [
    "# "
   ]
  },
  {
   "cell_type": "markdown",
   "id": "537b8384",
   "metadata": {},
   "source": [
    "# "
   ]
  },
  {
   "cell_type": "code",
   "execution_count": null,
   "id": "f15ad291",
   "metadata": {},
   "outputs": [],
   "source": [
    "8. How do you tell the difference between read() and readlines()?"
   ]
  },
  {
   "cell_type": "code",
   "execution_count": null,
   "id": "f52df512",
   "metadata": {},
   "outputs": [],
   "source": [
    "read() will make the data into an individual characters and if we write file.read(3) it will give the first 3 characters in line\n",
    "readlines() will give the output as list datatype, by reading all lines."
   ]
  },
  {
   "cell_type": "markdown",
   "id": "50a61fab",
   "metadata": {},
   "source": [
    "# "
   ]
  },
  {
   "cell_type": "markdown",
   "id": "fa8bb2de",
   "metadata": {},
   "source": [
    "# "
   ]
  },
  {
   "cell_type": "code",
   "execution_count": null,
   "id": "4dc909b2",
   "metadata": {},
   "outputs": [],
   "source": [
    "9. What data structure does a shelf value resemble?"
   ]
  },
  {
   "cell_type": "code",
   "execution_count": null,
   "id": "5a76814e",
   "metadata": {},
   "outputs": [],
   "source": [
    "Shelf value resembles dictionary type data structure as it contains keys and values."
   ]
  },
  {
   "cell_type": "code",
   "execution_count": null,
   "id": "067daf6e",
   "metadata": {},
   "outputs": [],
   "source": []
  },
  {
   "cell_type": "code",
   "execution_count": null,
   "id": "776b307b",
   "metadata": {},
   "outputs": [],
   "source": []
  }
 ],
 "metadata": {
  "kernelspec": {
   "display_name": "Python 3",
   "language": "python",
   "name": "python3"
  },
  "language_info": {
   "codemirror_mode": {
    "name": "ipython",
    "version": 3
   },
   "file_extension": ".py",
   "mimetype": "text/x-python",
   "name": "python",
   "nbconvert_exporter": "python",
   "pygments_lexer": "ipython3",
   "version": "3.8.8"
  }
 },
 "nbformat": 4,
 "nbformat_minor": 5
}

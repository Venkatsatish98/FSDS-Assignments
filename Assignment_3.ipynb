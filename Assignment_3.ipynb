{
 "cells": [
  {
   "cell_type": "markdown",
   "id": "6f2b9aaf",
   "metadata": {},
   "source": [
    "1. Why are functions advantageous to have in your programs?"
   ]
  },
  {
   "cell_type": "code",
   "execution_count": null,
   "id": "90a2d8f4",
   "metadata": {},
   "outputs": [],
   "source": [
    "functions are very advantageous to have in our programs because the code can be reusable as many tines as we need.\n",
    "it will also reduces the time while reusing and it so effective."
   ]
  },
  {
   "cell_type": "markdown",
   "id": "ea314445",
   "metadata": {},
   "source": [
    "2. When does the code in a function run: when it's specified or when it's called?"
   ]
  },
  {
   "cell_type": "code",
   "execution_count": null,
   "id": "97094857",
   "metadata": {},
   "outputs": [],
   "source": [
    "The function going to run whe it is called."
   ]
  },
  {
   "cell_type": "markdown",
   "id": "77b2c246",
   "metadata": {},
   "source": [
    "3. What statement creates a function?"
   ]
  },
  {
   "cell_type": "code",
   "execution_count": null,
   "id": "5f90d13e",
   "metadata": {},
   "outputs": [],
   "source": [
    "def statement creates a function where name of the function follows.\n",
    "    "
   ]
  },
  {
   "cell_type": "markdown",
   "id": "d991939e",
   "metadata": {},
   "source": [
    "4. What is the difference between a function and a function call?"
   ]
  },
  {
   "cell_type": "code",
   "execution_count": null,
   "id": "76bdc6a0",
   "metadata": {},
   "outputs": [],
   "source": [
    "The function can be created as per the requirement to achieve a result and \n",
    "later function can used for completing the task as many times as we need which called function call."
   ]
  },
  {
   "cell_type": "markdown",
   "id": "6e8160be",
   "metadata": {},
   "source": [
    "5. How many global scopes are there in a Python program? How many local scopes?"
   ]
  },
  {
   "cell_type": "code",
   "execution_count": null,
   "id": "c521cf0c",
   "metadata": {},
   "outputs": [],
   "source": [
    "There is only one global scope which will be alive until the program terminates.\n",
    "There is one local scope in which local scopes are the once which given in the functions and are alive till the function \n",
    "executes.local scopes are only limited to functons where they are defined."
   ]
  },
  {
   "cell_type": "markdown",
   "id": "079522f3",
   "metadata": {},
   "source": [
    "6. What happens to variables in a local scope when the function call returns?"
   ]
  },
  {
   "cell_type": "code",
   "execution_count": null,
   "id": "3c5f022d",
   "metadata": {},
   "outputs": [],
   "source": [
    "it will forget the variables in a local scope when the function call return as they are not global in nature."
   ]
  },
  {
   "cell_type": "markdown",
   "id": "28791cc1",
   "metadata": {},
   "source": [
    "7. What is the concept of a return value? Is it possible to have a return value in an expression?"
   ]
  },
  {
   "cell_type": "code",
   "execution_count": null,
   "id": "2b5fb6ca",
   "metadata": {},
   "outputs": [],
   "source": [
    "return value will returns the result when the code is successfully executed. it is possible to have return value in expression."
   ]
  },
  {
   "cell_type": "markdown",
   "id": "763703fe",
   "metadata": {},
   "source": [
    "8. If a function does not have a return statement, what is the return value of a call to that function?"
   ]
  },
  {
   "cell_type": "code",
   "execution_count": null,
   "id": "c1a36de0",
   "metadata": {},
   "outputs": [],
   "source": [
    "if there is no return statement then it will returns None."
   ]
  },
  {
   "cell_type": "markdown",
   "id": "4ffe7fbd",
   "metadata": {},
   "source": [
    "9. How do you make a function variable refer to the global variable?"
   ]
  },
  {
   "cell_type": "code",
   "execution_count": null,
   "id": "27e337d7",
   "metadata": {},
   "outputs": [],
   "source": [
    "the function variable canbe referred to a global variable by using the keyword global before the variable which are needed to referred."
   ]
  },
  {
   "cell_type": "markdown",
   "id": "283ec015",
   "metadata": {},
   "source": [
    "10. What is the data type of None?"
   ]
  },
  {
   "cell_type": "code",
   "execution_count": null,
   "id": "b13927e1",
   "metadata": {},
   "outputs": [],
   "source": [
    "datatype of None is Nonetype"
   ]
  },
  {
   "cell_type": "markdown",
   "id": "2d695724",
   "metadata": {},
   "source": [
    "11. What does the sentence import areallyourpetsnamederic do?"
   ]
  },
  {
   "cell_type": "code",
   "execution_count": null,
   "id": "5223459f",
   "metadata": {},
   "outputs": [],
   "source": [
    "it imports all the packages in areallyourpetsnamederic."
   ]
  },
  {
   "cell_type": "markdown",
   "id": "67d5b77c",
   "metadata": {},
   "source": [
    "12. If you had a bacon() feature in a spam module, what would you call it after importing spam?"
   ]
  },
  {
   "cell_type": "code",
   "execution_count": null,
   "id": "fea83333",
   "metadata": {},
   "outputs": [],
   "source": [
    "spam.bacon()"
   ]
  },
  {
   "cell_type": "markdown",
   "id": "730b6429",
   "metadata": {},
   "source": [
    "13. What can you do to save a programme from crashing if it encounters an error?"
   ]
  },
  {
   "cell_type": "code",
   "execution_count": null,
   "id": "d43deecd",
   "metadata": {},
   "outputs": [],
   "source": [
    "we use the method exception handling to protect the the program from crashing if it encounters an error."
   ]
  },
  {
   "cell_type": "markdown",
   "id": "a23b4e3a",
   "metadata": {},
   "source": [
    "14. What is the purpose of the try clause? What is the purpose of the except clause?"
   ]
  },
  {
   "cell_type": "code",
   "execution_count": null,
   "id": "486520c4",
   "metadata": {},
   "outputs": [],
   "source": [
    "the try clause checks whether the program which given in the try block will successfully executes or not, if it no executed\n",
    "successfully, then it will fall in to the except block and will give the output as per the except block wihout throwing error."
   ]
  },
  {
   "cell_type": "code",
   "execution_count": null,
   "id": "60cc5fe0",
   "metadata": {},
   "outputs": [],
   "source": []
  },
  {
   "cell_type": "code",
   "execution_count": null,
   "id": "c8e3c2b7",
   "metadata": {},
   "outputs": [],
   "source": []
  },
  {
   "cell_type": "code",
   "execution_count": null,
   "id": "7821cbd5",
   "metadata": {},
   "outputs": [],
   "source": []
  },
  {
   "cell_type": "code",
   "execution_count": null,
   "id": "75a4809f",
   "metadata": {},
   "outputs": [],
   "source": []
  }
 ],
 "metadata": {
  "kernelspec": {
   "display_name": "Python 3",
   "language": "python",
   "name": "python3"
  },
  "language_info": {
   "codemirror_mode": {
    "name": "ipython",
    "version": 3
   },
   "file_extension": ".py",
   "mimetype": "text/x-python",
   "name": "python",
   "nbconvert_exporter": "python",
   "pygments_lexer": "ipython3",
   "version": "3.8.8"
  }
 },
 "nbformat": 4,
 "nbformat_minor": 5
}

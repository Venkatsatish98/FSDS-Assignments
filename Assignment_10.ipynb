{
 "cells": [
  {
   "cell_type": "code",
   "execution_count": null,
   "id": "3136c7d2",
   "metadata": {},
   "outputs": [],
   "source": [
    "1. How do you distinguish between shutil.copy() and shutil.copytree()?"
   ]
  },
  {
   "cell_type": "code",
   "execution_count": null,
   "id": "14ef5ba6",
   "metadata": {},
   "outputs": [],
   "source": [
    "shutil.copy() will help to coopy the particular file from source to destination whereas shutil.copytree() will helps to copy the\n",
    "entire directory which means everything in tha particular directory."
   ]
  },
  {
   "cell_type": "markdown",
   "id": "14ac06d1",
   "metadata": {},
   "source": [
    "# "
   ]
  },
  {
   "cell_type": "markdown",
   "id": "c24383b0",
   "metadata": {},
   "source": [
    "# "
   ]
  },
  {
   "cell_type": "code",
   "execution_count": null,
   "id": "8bfaea1e",
   "metadata": {},
   "outputs": [],
   "source": [
    "2. What function is used to rename files??"
   ]
  },
  {
   "cell_type": "code",
   "execution_count": null,
   "id": "69199709",
   "metadata": {},
   "outputs": [],
   "source": [
    "os.rename() function is used to rename the name of the file.os is a python standard library which needs to be imported before\n",
    "performing the rename operation.we need to pass the arguments of source and destination paths in the rename function."
   ]
  },
  {
   "cell_type": "markdown",
   "id": "54506eea",
   "metadata": {},
   "source": [
    "# "
   ]
  },
  {
   "cell_type": "markdown",
   "id": "c78479b4",
   "metadata": {},
   "source": [
    "# "
   ]
  },
  {
   "cell_type": "code",
   "execution_count": null,
   "id": "a1cae1ee",
   "metadata": {},
   "outputs": [],
   "source": [
    "3. What is the difference between the delete functions in the send2trash and shutil modules?"
   ]
  },
  {
   "cell_type": "code",
   "execution_count": null,
   "id": "5e5fcb80",
   "metadata": {},
   "outputs": [],
   "source": [
    "If we use the shutil module for removing the files or folders, then the files and folders are permanently deleted.\n",
    "send2trash module will helps to delete the file but not permanently, instead it will send those files to recyclebin which we can\n",
    "be restored if necessary."
   ]
  },
  {
   "cell_type": "markdown",
   "id": "b95a97b8",
   "metadata": {},
   "source": [
    "# "
   ]
  },
  {
   "cell_type": "markdown",
   "id": "fef48904",
   "metadata": {},
   "source": [
    "# "
   ]
  },
  {
   "cell_type": "code",
   "execution_count": null,
   "id": "dad46720",
   "metadata": {},
   "outputs": [],
   "source": [
    "4.ZipFile objects have a close() method just like File objects’ close() method.\n",
    "What ZipFile method is equivalent to File objects’ open() method?"
   ]
  },
  {
   "cell_type": "code",
   "execution_count": null,
   "id": "7c7fe198",
   "metadata": {},
   "outputs": [],
   "source": [
    "just like the file objects open() method, we use zipfile.Zipfile() function to initiate it.\n",
    "It requires the similar arguments like file name and the mode of opening."
   ]
  },
  {
   "cell_type": "markdown",
   "id": "490df0ef",
   "metadata": {},
   "source": [
    "# "
   ]
  },
  {
   "cell_type": "markdown",
   "id": "d849aee7",
   "metadata": {},
   "source": [
    "# "
   ]
  },
  {
   "cell_type": "code",
   "execution_count": null,
   "id": "686e2ab8",
   "metadata": {},
   "outputs": [],
   "source": [
    "5. Create a programme that searches a folder tree for files with a certain file extension (such as .pdf or .jpg).\n",
    "Copy these files from whatever location they are in to a new folder."
   ]
  },
  {
   "cell_type": "code",
   "execution_count": 266,
   "id": "3adbba54",
   "metadata": {},
   "outputs": [],
   "source": [
    "def copy_files(path, extensions, dest):\n",
    "    extensions = tuple(extensions)\n",
    "    for root, folder, filenames in os.walk(path):\n",
    "        for file in filenames:\n",
    "            if file.endswith(extensions):\n",
    "                path = os.path.join(root, file)\n",
    "                shutil.copy(path, dest)"
   ]
  },
  {
   "cell_type": "code",
   "execution_count": null,
   "id": "3caf3b31",
   "metadata": {},
   "outputs": [],
   "source": []
  },
  {
   "cell_type": "code",
   "execution_count": null,
   "id": "7d7b5786",
   "metadata": {},
   "outputs": [],
   "source": []
  },
  {
   "cell_type": "code",
   "execution_count": null,
   "id": "a179a42e",
   "metadata": {},
   "outputs": [],
   "source": []
  }
 ],
 "metadata": {
  "kernelspec": {
   "display_name": "Python 3",
   "language": "python",
   "name": "python3"
  },
  "language_info": {
   "codemirror_mode": {
    "name": "ipython",
    "version": 3
   },
   "file_extension": ".py",
   "mimetype": "text/x-python",
   "name": "python",
   "nbconvert_exporter": "python",
   "pygments_lexer": "ipython3",
   "version": "3.8.8"
  }
 },
 "nbformat": 4,
 "nbformat_minor": 5
}

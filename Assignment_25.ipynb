{
 "cells": [
  {
   "cell_type": "code",
   "execution_count": null,
   "id": "01d39b8f",
   "metadata": {},
   "outputs": [],
   "source": [
    "1) What is the difference between enclosing a list comprehension in square brackets and parentheses?"
   ]
  },
  {
   "cell_type": "code",
   "execution_count": null,
   "id": "15a4896c",
   "metadata": {},
   "outputs": [],
   "source": [
    "If the list comprehension enclosed in square brackets, output will be in list datatype.\n",
    "However, if it is enclosed in paranthesis, output will be the generator object where we need to iterate the object to retrieve\n",
    "the data."
   ]
  },
  {
   "cell_type": "markdown",
   "id": "3208ff64",
   "metadata": {},
   "source": [
    "# "
   ]
  },
  {
   "cell_type": "markdown",
   "id": "21d2665c",
   "metadata": {},
   "source": [
    "# "
   ]
  },
  {
   "cell_type": "code",
   "execution_count": null,
   "id": "379f6709",
   "metadata": {},
   "outputs": [],
   "source": [
    "2) What is the relationship between generators and iterators?"
   ]
  },
  {
   "cell_type": "code",
   "execution_count": null,
   "id": "0a14b5d5",
   "metadata": {},
   "outputs": [],
   "source": [
    "we use iter() and next() functions to convert the iterables into an iterator.All the iterators are iterable.\n",
    "\n",
    "Generator is an another way of creating an iterator.It uses yield function to create an iterator.\n",
    "Generators are mostly used in for and while loops to generate an iterator.Every generator is an iterator."
   ]
  },
  {
   "cell_type": "markdown",
   "id": "07559ce4",
   "metadata": {},
   "source": [
    "# "
   ]
  },
  {
   "cell_type": "markdown",
   "id": "4959d03c",
   "metadata": {},
   "source": [
    "# "
   ]
  },
  {
   "cell_type": "code",
   "execution_count": null,
   "id": "b690eeda",
   "metadata": {},
   "outputs": [],
   "source": [
    "3) What are the signs that a function is a generator function?"
   ]
  },
  {
   "cell_type": "code",
   "execution_count": null,
   "id": "21a63463",
   "metadata": {},
   "outputs": [],
   "source": [
    "If the function contains an yield statement in it instead of return, then it will be a generator function."
   ]
  },
  {
   "cell_type": "markdown",
   "id": "398238a4",
   "metadata": {},
   "source": [
    "# "
   ]
  },
  {
   "cell_type": "markdown",
   "id": "7399cfa3",
   "metadata": {},
   "source": [
    "# "
   ]
  },
  {
   "cell_type": "code",
   "execution_count": null,
   "id": "ee527624",
   "metadata": {},
   "outputs": [],
   "source": [
    "4) What is the purpose of a yield statement?"
   ]
  },
  {
   "cell_type": "code",
   "execution_count": null,
   "id": "c1b80b63",
   "metadata": {},
   "outputs": [],
   "source": [
    "The purpose of the yield statement is to convert the function into the generator object.We need to iterate through the generated\n",
    "object(which is nothing but function) to read the values."
   ]
  },
  {
   "cell_type": "markdown",
   "id": "b0acc212",
   "metadata": {},
   "source": [
    "# "
   ]
  },
  {
   "cell_type": "markdown",
   "id": "4212ab61",
   "metadata": {},
   "source": [
    "# "
   ]
  },
  {
   "cell_type": "code",
   "execution_count": null,
   "id": "7ddc4de4",
   "metadata": {},
   "outputs": [],
   "source": [
    "5) What is the relationship between map calls and list comprehensions? Make a comparison and contrast between the two."
   ]
  },
  {
   "cell_type": "code",
   "execution_count": null,
   "id": "90a823c0",
   "metadata": {},
   "outputs": [],
   "source": [
    "map will only return the map object, where as list comprehension will return the list object.\n",
    "It is better to go with list comprehension when we need the list object directly, whereas we can also convert map object to list\n",
    "\n",
    "list comprehension is easy to understand compared to map.we can give the logic directly in list comprehension in square brackets\n",
    "map needs an already defined function, and the iterables.\n",
    "map(function, iterable) is the syntax for creating a map function\n",
    "\n",
    "map will be more useful when we already have defined functions.\n",
    "if we does not have the defined functions, we can go with list comprehension to save our time for creating functions."
   ]
  },
  {
   "cell_type": "code",
   "execution_count": null,
   "id": "a64f8457",
   "metadata": {},
   "outputs": [],
   "source": []
  },
  {
   "cell_type": "code",
   "execution_count": null,
   "id": "916552a5",
   "metadata": {},
   "outputs": [],
   "source": []
  }
 ],
 "metadata": {
  "kernelspec": {
   "display_name": "Python 3",
   "language": "python",
   "name": "python3"
  },
  "language_info": {
   "codemirror_mode": {
    "name": "ipython",
    "version": 3
   },
   "file_extension": ".py",
   "mimetype": "text/x-python",
   "name": "python",
   "nbconvert_exporter": "python",
   "pygments_lexer": "ipython3",
   "version": "3.8.8"
  }
 },
 "nbformat": 4,
 "nbformat_minor": 5
}

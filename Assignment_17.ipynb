{
 "cells": [
  {
   "cell_type": "code",
   "execution_count": null,
   "id": "d7eca578",
   "metadata": {},
   "outputs": [],
   "source": [
    "1. Assign the value 7 to the variable guess_me. Then, write the conditional tests (if, else, and elif) to print the\n",
    "string 'too low' if guess_me is less than 7, 'too high' if greater than 7, and 'just right' if equal to 7."
   ]
  },
  {
   "cell_type": "code",
   "execution_count": 2,
   "id": "4dfeef2f",
   "metadata": {},
   "outputs": [],
   "source": [
    "guess_me = 7"
   ]
  },
  {
   "cell_type": "code",
   "execution_count": 4,
   "id": "0641b016",
   "metadata": {},
   "outputs": [
    {
     "name": "stdout",
     "output_type": "stream",
     "text": [
      "just right\n"
     ]
    }
   ],
   "source": [
    "if guess_me< 7:\n",
    "    print('too low')\n",
    "elif guess_me> 7:\n",
    "    print('too high')\n",
    "else:\n",
    "    print('just right')"
   ]
  },
  {
   "cell_type": "markdown",
   "id": "48f13058",
   "metadata": {},
   "source": [
    "# "
   ]
  },
  {
   "cell_type": "markdown",
   "id": "c25a76c4",
   "metadata": {},
   "source": [
    "# "
   ]
  },
  {
   "cell_type": "code",
   "execution_count": null,
   "id": "bf4d4b88",
   "metadata": {},
   "outputs": [],
   "source": [
    "2. Assign the value 7 to the variable guess_me and the value 1 to the variable start.\n",
    "Write a while loop that compares start with guess_me. Print too low if start is less than guess me.\n",
    "If start equals guess_me, print 'found it!' and exit the loop. If start is greater than guess_me, print 'oops' and\n",
    "exit the loop. Increment start at the end of the loop."
   ]
  },
  {
   "cell_type": "code",
   "execution_count": null,
   "id": "0a12ba20",
   "metadata": {},
   "outputs": [],
   "source": [
    "guess_me = 7\n",
    "start = 1"
   ]
  },
  {
   "cell_type": "code",
   "execution_count": 15,
   "id": "9ea116a4",
   "metadata": {},
   "outputs": [
    {
     "name": "stdout",
     "output_type": "stream",
     "text": [
      "too low\n",
      "too low\n",
      "too low\n",
      "too low\n",
      "too low\n",
      "too low\n",
      "found it!\n"
     ]
    }
   ],
   "source": [
    "while True:\n",
    "    if start< guess_me:\n",
    "        print('too low')\n",
    "    elif start == guess_me:\n",
    "        print('found it!')\n",
    "        break\n",
    "    else:\n",
    "        print('oops')\n",
    "        break\n",
    "    start = start+1"
   ]
  },
  {
   "cell_type": "markdown",
   "id": "b90989f5",
   "metadata": {},
   "source": [
    "# "
   ]
  },
  {
   "cell_type": "markdown",
   "id": "c6fcb9b4",
   "metadata": {},
   "source": [
    "# "
   ]
  },
  {
   "cell_type": "code",
   "execution_count": null,
   "id": "624d99d3",
   "metadata": {},
   "outputs": [],
   "source": [
    "3. Print the following values of the list [3, 2, 1, 0] using a for loop."
   ]
  },
  {
   "cell_type": "code",
   "execution_count": 17,
   "id": "a1d02018",
   "metadata": {},
   "outputs": [],
   "source": [
    "lst =[3,2,1,0]"
   ]
  },
  {
   "cell_type": "code",
   "execution_count": 19,
   "id": "af09baaa",
   "metadata": {},
   "outputs": [
    {
     "name": "stdout",
     "output_type": "stream",
     "text": [
      "3\n",
      "2\n",
      "1\n",
      "0\n"
     ]
    }
   ],
   "source": [
    "for i in lst:\n",
    "    print(i)"
   ]
  },
  {
   "cell_type": "markdown",
   "id": "ae3cc493",
   "metadata": {},
   "source": [
    "# "
   ]
  },
  {
   "cell_type": "markdown",
   "id": "9ce315af",
   "metadata": {},
   "source": [
    "# "
   ]
  },
  {
   "cell_type": "code",
   "execution_count": null,
   "id": "89c5ab37",
   "metadata": {},
   "outputs": [],
   "source": [
    "4. Use a list comprehension to make a list of the even numbers in range(10)"
   ]
  },
  {
   "cell_type": "code",
   "execution_count": 30,
   "id": "38b2e29c",
   "metadata": {},
   "outputs": [
    {
     "data": {
      "text/plain": [
       "[0, 2, 4, 6, 8]"
      ]
     },
     "execution_count": 30,
     "metadata": {},
     "output_type": "execute_result"
    }
   ],
   "source": [
    "[i for i in range(10) if i%2 ==0]"
   ]
  },
  {
   "cell_type": "markdown",
   "id": "2b63ee0e",
   "metadata": {},
   "source": [
    "# "
   ]
  },
  {
   "cell_type": "markdown",
   "id": "4f19dd66",
   "metadata": {},
   "source": [
    "# "
   ]
  },
  {
   "cell_type": "code",
   "execution_count": null,
   "id": "52d30981",
   "metadata": {},
   "outputs": [],
   "source": [
    "5. Use a dictionary comprehension to create the dictionary squares.\n",
    "Use range(10) to return the keys, and use the square of each key as its value."
   ]
  },
  {
   "cell_type": "code",
   "execution_count": 33,
   "id": "484b4b23",
   "metadata": {},
   "outputs": [
    {
     "data": {
      "text/plain": [
       "{0: 0, 1: 1, 2: 4, 3: 9, 4: 16, 5: 25, 6: 36, 7: 49, 8: 64, 9: 81}"
      ]
     },
     "execution_count": 33,
     "metadata": {},
     "output_type": "execute_result"
    }
   ],
   "source": [
    "{i:i**2 for i in range(10)}"
   ]
  },
  {
   "cell_type": "markdown",
   "id": "a997b541",
   "metadata": {},
   "source": [
    "# "
   ]
  },
  {
   "cell_type": "markdown",
   "id": "73a011b4",
   "metadata": {},
   "source": [
    "# "
   ]
  },
  {
   "cell_type": "code",
   "execution_count": null,
   "id": "70041d94",
   "metadata": {},
   "outputs": [],
   "source": [
    "6. Construct the set odd from the odd numbers in the range using a set comprehension (10)."
   ]
  },
  {
   "cell_type": "code",
   "execution_count": 36,
   "id": "656e0c90",
   "metadata": {},
   "outputs": [
    {
     "data": {
      "text/plain": [
       "{1, 3, 5, 7, 9}"
      ]
     },
     "execution_count": 36,
     "metadata": {},
     "output_type": "execute_result"
    }
   ],
   "source": [
    "{i for i in range(10) if i%2 != 0}"
   ]
  },
  {
   "cell_type": "markdown",
   "id": "3613e072",
   "metadata": {},
   "source": [
    "# "
   ]
  },
  {
   "cell_type": "markdown",
   "id": "fcc3529a",
   "metadata": {},
   "source": [
    "# "
   ]
  },
  {
   "cell_type": "code",
   "execution_count": null,
   "id": "2dc8498d",
   "metadata": {},
   "outputs": [],
   "source": [
    "7. Use a generator comprehension to return the string 'Got ' and a number for the numbers in range(10).\n",
    "Iterate through this by using a for loop."
   ]
  },
  {
   "cell_type": "code",
   "execution_count": 56,
   "id": "8dab2baf",
   "metadata": {},
   "outputs": [],
   "source": [
    "str_iterator = ('Got '+ str(i) for i in range(10))"
   ]
  },
  {
   "cell_type": "code",
   "execution_count": 57,
   "id": "7714eb02",
   "metadata": {},
   "outputs": [
    {
     "data": {
      "text/plain": [
       "<generator object <genexpr> at 0x000001B65E17A0B0>"
      ]
     },
     "execution_count": 57,
     "metadata": {},
     "output_type": "execute_result"
    }
   ],
   "source": [
    "str_iterator"
   ]
  },
  {
   "cell_type": "code",
   "execution_count": 58,
   "id": "5c89c1df",
   "metadata": {},
   "outputs": [
    {
     "name": "stdout",
     "output_type": "stream",
     "text": [
      "Got 0\n",
      "Got 1\n",
      "Got 2\n",
      "Got 3\n",
      "Got 4\n",
      "Got 5\n",
      "Got 6\n",
      "Got 7\n",
      "Got 8\n",
      "Got 9\n"
     ]
    }
   ],
   "source": [
    "for i in str_iterator:\n",
    "    print(i)"
   ]
  },
  {
   "cell_type": "markdown",
   "id": "c488699f",
   "metadata": {},
   "source": [
    "# "
   ]
  },
  {
   "cell_type": "markdown",
   "id": "7f3383e3",
   "metadata": {},
   "source": [
    "# "
   ]
  },
  {
   "cell_type": "code",
   "execution_count": null,
   "id": "c0236565",
   "metadata": {},
   "outputs": [],
   "source": [
    "8. Define a function called good that returns the list ['Harry', 'Ron', 'Hermione']."
   ]
  },
  {
   "cell_type": "code",
   "execution_count": 59,
   "id": "887df34a",
   "metadata": {},
   "outputs": [],
   "source": [
    "def good():\n",
    "    return(['Harry', 'Ron', 'Hermione'])"
   ]
  },
  {
   "cell_type": "code",
   "execution_count": 60,
   "id": "7bbdd3d8",
   "metadata": {
    "scrolled": true
   },
   "outputs": [
    {
     "data": {
      "text/plain": [
       "['Harry', 'Ron', 'Hermione']"
      ]
     },
     "execution_count": 60,
     "metadata": {},
     "output_type": "execute_result"
    }
   ],
   "source": [
    "good()"
   ]
  },
  {
   "cell_type": "markdown",
   "id": "7cd49630",
   "metadata": {},
   "source": [
    "# "
   ]
  },
  {
   "cell_type": "markdown",
   "id": "c1aabdb3",
   "metadata": {},
   "source": [
    "# "
   ]
  },
  {
   "cell_type": "code",
   "execution_count": null,
   "id": "34207b9e",
   "metadata": {},
   "outputs": [],
   "source": [
    "9. Define a generator function called get_odds that returns the odd numbers from range(10).\n",
    "Use a for loop to find and print the third value returned."
   ]
  },
  {
   "cell_type": "code",
   "execution_count": 102,
   "id": "61f76463",
   "metadata": {},
   "outputs": [],
   "source": [
    "def get_odds():\n",
    "    return (i for i in range(10) if i%2!=0)"
   ]
  },
  {
   "cell_type": "code",
   "execution_count": 103,
   "id": "daeffc5f",
   "metadata": {},
   "outputs": [
    {
     "data": {
      "text/plain": [
       "<generator object get_odds.<locals>.<genexpr> at 0x000001B65F054C10>"
      ]
     },
     "execution_count": 103,
     "metadata": {},
     "output_type": "execute_result"
    }
   ],
   "source": [
    "get_odds()"
   ]
  },
  {
   "cell_type": "code",
   "execution_count": 109,
   "id": "a8195be1",
   "metadata": {},
   "outputs": [
    {
     "name": "stdout",
     "output_type": "stream",
     "text": [
      "5\n"
     ]
    }
   ],
   "source": [
    "l = []\n",
    "for i in get_odds():\n",
    "    l.append(i)\n",
    "print(l[2])"
   ]
  },
  {
   "cell_type": "markdown",
   "id": "d1170101",
   "metadata": {},
   "source": [
    "# "
   ]
  },
  {
   "cell_type": "markdown",
   "id": "856ea6fb",
   "metadata": {},
   "source": [
    "# "
   ]
  },
  {
   "cell_type": "code",
   "execution_count": null,
   "id": "ce69eaf2",
   "metadata": {},
   "outputs": [],
   "source": [
    "11. Use zip() to make a dictionary called movies that pairs these lists: titles = ['Creature of Habit', 'Crewel Fate']\n",
    "and plots = ['A nun turns into a monster', 'A haunted yarn shop']."
   ]
  },
  {
   "cell_type": "code",
   "execution_count": 111,
   "id": "5677f339",
   "metadata": {},
   "outputs": [],
   "source": [
    "titles = ['Creature of Habit', 'Crewel Fate']\n",
    "plots = ['A nun turns into a monster', 'A haunted yarn shop']"
   ]
  },
  {
   "cell_type": "code",
   "execution_count": 126,
   "id": "e3ce78c0",
   "metadata": {},
   "outputs": [
    {
     "name": "stdout",
     "output_type": "stream",
     "text": [
      "{'Creature of Habit': 'A nun turns into a monster', 'Crewel Fate': 'A haunted yarn shop'}\n"
     ]
    }
   ],
   "source": [
    "a = dict(zip(titles, plots))\n",
    "print(a)"
   ]
  },
  {
   "cell_type": "code",
   "execution_count": null,
   "id": "5a64087e",
   "metadata": {},
   "outputs": [],
   "source": []
  },
  {
   "cell_type": "code",
   "execution_count": null,
   "id": "19190abd",
   "metadata": {},
   "outputs": [],
   "source": []
  }
 ],
 "metadata": {
  "kernelspec": {
   "display_name": "Python 3",
   "language": "python",
   "name": "python3"
  },
  "language_info": {
   "codemirror_mode": {
    "name": "ipython",
    "version": 3
   },
   "file_extension": ".py",
   "mimetype": "text/x-python",
   "name": "python",
   "nbconvert_exporter": "python",
   "pygments_lexer": "ipython3",
   "version": "3.8.8"
  }
 },
 "nbformat": 4,
 "nbformat_minor": 5
}

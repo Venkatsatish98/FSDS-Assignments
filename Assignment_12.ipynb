{
 "cells": [
  {
   "cell_type": "code",
   "execution_count": null,
   "id": "26f21f92",
   "metadata": {},
   "outputs": [],
   "source": [
    "1. In what modes should the PdfFileReader() and PdfFileWriter() File objects will be opened?"
   ]
  },
  {
   "cell_type": "code",
   "execution_count": null,
   "id": "836f6b12",
   "metadata": {},
   "outputs": [],
   "source": [
    "PdfFileReader() should be opened in read binary mode and PdfFileWriter() should be opened in write binary mode."
   ]
  },
  {
   "cell_type": "markdown",
   "id": "59d3d2d3",
   "metadata": {},
   "source": [
    "# "
   ]
  },
  {
   "cell_type": "markdown",
   "id": "277b049e",
   "metadata": {},
   "source": [
    "# "
   ]
  },
  {
   "cell_type": "code",
   "execution_count": null,
   "id": "bfcc5aaf",
   "metadata": {},
   "outputs": [],
   "source": [
    "2. From a PdfFileReader object, how do you get a Page object for page 5?"
   ]
  },
  {
   "cell_type": "code",
   "execution_count": null,
   "id": "17ee400c",
   "metadata": {},
   "outputs": [],
   "source": [
    "getPage(4) will let to get the page 5 from a pdf."
   ]
  },
  {
   "cell_type": "markdown",
   "id": "2ade4581",
   "metadata": {},
   "source": [
    "# "
   ]
  },
  {
   "cell_type": "markdown",
   "id": "75483498",
   "metadata": {},
   "source": [
    "# "
   ]
  },
  {
   "cell_type": "code",
   "execution_count": null,
   "id": "6e41edc8",
   "metadata": {},
   "outputs": [],
   "source": [
    "3. What PdfFileReader variable stores the number of pages in the PDF document?"
   ]
  },
  {
   "cell_type": "code",
   "execution_count": null,
   "id": "efd61e6c",
   "metadata": {},
   "outputs": [],
   "source": [
    "numPages stores the number of pages in the PDF document"
   ]
  },
  {
   "cell_type": "markdown",
   "id": "7af492fc",
   "metadata": {},
   "source": [
    "# "
   ]
  },
  {
   "cell_type": "markdown",
   "id": "df5dcafb",
   "metadata": {},
   "source": [
    "# "
   ]
  },
  {
   "cell_type": "code",
   "execution_count": null,
   "id": "4bba3897",
   "metadata": {},
   "outputs": [],
   "source": [
    "4. If a PdfFileReader object’s PDF is encrypted with the password swordfish,\n",
    "what must you do before you can obtain Page objects from it?"
   ]
  },
  {
   "cell_type": "code",
   "execution_count": null,
   "id": "2fa4f126",
   "metadata": {},
   "outputs": [],
   "source": [
    "if the file was encrypted, then we can decrypt it by using decrypt() and passing tha password as an argument.\n",
    "file.decrypt(\"swordfish\")"
   ]
  },
  {
   "cell_type": "markdown",
   "id": "63350e3c",
   "metadata": {},
   "source": [
    "# "
   ]
  },
  {
   "cell_type": "markdown",
   "id": "6b9736f5",
   "metadata": {},
   "source": [
    "# "
   ]
  },
  {
   "cell_type": "code",
   "execution_count": null,
   "id": "3fb00837",
   "metadata": {},
   "outputs": [],
   "source": [
    "5. What methods do you use to rotate a page?"
   ]
  },
  {
   "cell_type": "code",
   "execution_count": null,
   "id": "cb30854d",
   "metadata": {},
   "outputs": [],
   "source": [
    "we use page.rotateClockwise(90) to rotate the a page with the angle given as an argument."
   ]
  },
  {
   "cell_type": "markdown",
   "id": "08dca094",
   "metadata": {},
   "source": [
    "# "
   ]
  },
  {
   "cell_type": "markdown",
   "id": "72dd34e4",
   "metadata": {},
   "source": [
    "# "
   ]
  },
  {
   "cell_type": "code",
   "execution_count": null,
   "id": "10b327b6",
   "metadata": {},
   "outputs": [],
   "source": [
    "6. What is the difference between a Run object and a Paragraph object?"
   ]
  },
  {
   "cell_type": "code",
   "execution_count": null,
   "id": "13408c5c",
   "metadata": {},
   "outputs": [],
   "source": [
    "The paragraph is a primary block level.It allows to set the whole formatting options at once.\n",
    "Run objects have both bold and italic property that allows to set their value for a run."
   ]
  },
  {
   "cell_type": "markdown",
   "id": "f6430b01",
   "metadata": {},
   "source": [
    "# "
   ]
  },
  {
   "cell_type": "markdown",
   "id": "6d602ad9",
   "metadata": {},
   "source": [
    "# "
   ]
  },
  {
   "cell_type": "code",
   "execution_count": null,
   "id": "9ab0bbb7",
   "metadata": {},
   "outputs": [],
   "source": [
    "8. What type of object has bold, underline, italic, strike, and outline variables?"
   ]
  },
  {
   "cell_type": "code",
   "execution_count": null,
   "id": "59891a4c",
   "metadata": {},
   "outputs": [],
   "source": [
    "Run object has bold, underline, italic, strike, and outline variables."
   ]
  },
  {
   "cell_type": "markdown",
   "id": "029a453a",
   "metadata": {},
   "source": [
    "# "
   ]
  },
  {
   "cell_type": "markdown",
   "id": "ec4e423c",
   "metadata": {},
   "source": [
    "# "
   ]
  },
  {
   "cell_type": "code",
   "execution_count": null,
   "id": "b03e3d55",
   "metadata": {},
   "outputs": [],
   "source": [
    "9. What is the difference between False, True, and None for the bold variable?"
   ]
  },
  {
   "cell_type": "code",
   "execution_count": null,
   "id": "25d6baa3",
   "metadata": {},
   "outputs": [],
   "source": [
    "True helps to make the Run object bold and False make to not bold.None will make the Run object to use the style's bold setting."
   ]
  },
  {
   "cell_type": "markdown",
   "id": "cc9d8db3",
   "metadata": {},
   "source": [
    "# "
   ]
  },
  {
   "cell_type": "markdown",
   "id": "ff4a3c3b",
   "metadata": {},
   "source": [
    "# "
   ]
  },
  {
   "cell_type": "code",
   "execution_count": null,
   "id": "a6373865",
   "metadata": {},
   "outputs": [],
   "source": [
    "10. How do you create a Document object for a new Word document?"
   ]
  },
  {
   "cell_type": "code",
   "execution_count": null,
   "id": "dbdc7c06",
   "metadata": {},
   "outputs": [],
   "source": [
    "import docx\n",
    "we need to import docx module.\n",
    "\n",
    "doc = docx.Document()\n",
    "creating a document object for a new word document 'doc'."
   ]
  },
  {
   "cell_type": "markdown",
   "id": "71145032",
   "metadata": {},
   "source": [
    "# "
   ]
  },
  {
   "cell_type": "markdown",
   "id": "f043fb5d",
   "metadata": {},
   "source": [
    "# "
   ]
  },
  {
   "cell_type": "code",
   "execution_count": null,
   "id": "64b97135",
   "metadata": {},
   "outputs": [],
   "source": [
    "11. How do you add a paragraph with the text 'Hello, there!' to a Document object stored in a variable named doc?"
   ]
  },
  {
   "cell_type": "code",
   "execution_count": null,
   "id": "47131f0f",
   "metadata": {},
   "outputs": [],
   "source": [
    "doc.add_heading('Hello, there!')"
   ]
  },
  {
   "cell_type": "markdown",
   "id": "68d9c370",
   "metadata": {},
   "source": [
    "# "
   ]
  },
  {
   "cell_type": "markdown",
   "id": "56bfc256",
   "metadata": {},
   "source": [
    "# "
   ]
  },
  {
   "cell_type": "code",
   "execution_count": null,
   "id": "dd272545",
   "metadata": {},
   "outputs": [],
   "source": [
    "12. What integers represent the levels of headings available in Word documents?"
   ]
  },
  {
   "cell_type": "code",
   "execution_count": null,
   "id": "8a79ffe9",
   "metadata": {},
   "outputs": [],
   "source": [
    "There are 9 levels which represented by the integers ranging from 0-9.Level 0 prints the heading of the string.\n",
    "The heading going to decrease while the levels are increasing."
   ]
  },
  {
   "cell_type": "code",
   "execution_count": null,
   "id": "cc8bd145",
   "metadata": {},
   "outputs": [],
   "source": []
  },
  {
   "cell_type": "code",
   "execution_count": null,
   "id": "65789100",
   "metadata": {},
   "outputs": [],
   "source": []
  }
 ],
 "metadata": {
  "kernelspec": {
   "display_name": "Python 3",
   "language": "python",
   "name": "python3"
  },
  "language_info": {
   "codemirror_mode": {
    "name": "ipython",
    "version": 3
   },
   "file_extension": ".py",
   "mimetype": "text/x-python",
   "name": "python",
   "nbconvert_exporter": "python",
   "pygments_lexer": "ipython3",
   "version": "3.8.8"
  }
 },
 "nbformat": 4,
 "nbformat_minor": 5
}
